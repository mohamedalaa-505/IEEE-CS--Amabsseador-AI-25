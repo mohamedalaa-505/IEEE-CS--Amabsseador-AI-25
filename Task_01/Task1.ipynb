{
 "cells": [
  {
   "cell_type": "code",
   "execution_count": 3,
   "id": "fe55e83e",
   "metadata": {},
   "outputs": [
    {
     "name": "stdout",
     "output_type": "stream",
     "text": [
      "sum: 46\n"
     ]
    }
   ],
   "source": [
    "total = 0\n",
    "while True:\n",
    "    num = int(input())\n",
    "    if num == -1:\n",
    "        break\n",
    "    total += num\n",
    "print(f\"sum: {total}\")"
   ]
  },
  {
   "cell_type": "code",
   "execution_count": 4,
   "id": "74a4fa1b",
   "metadata": {},
   "outputs": [
    {
     "name": "stdout",
     "output_type": "stream",
     "text": [
      "Day: 1   Month: 8 Year: 2025\n"
     ]
    }
   ],
   "source": [
    "import datetime\n",
    "\n",
    "day = int(input(\"Day: \"))\n",
    "month = int(input(\"Month: \"))\n",
    "year = int(input(\"Year: \"))\n",
    "\n",
    "current_date = datetime.date(year, month, day)\n",
    "next_week = current_date + datetime.timedelta(days=7)\n",
    "\n",
    "print(f\"Day: {next_week.day}   Month: {next_week.month} Year: {next_week.year}\")"
   ]
  },
  {
   "cell_type": "code",
   "execution_count": 5,
   "id": "61eccca1",
   "metadata": {},
   "outputs": [
    {
     "name": "stdout",
     "output_type": "stream",
     "text": [
      "The sum of digits is 6 (1 + 2 + 3).\n"
     ]
    }
   ],
   "source": [
    "number = input()\n",
    "\n",
    "digits = [int(i) for i in number]\n",
    "digit_sum = sum(digits)\n",
    "digits_str = \" + \".join(number)\n",
    "\n",
    "print(f\"The sum of digits is {digit_sum} ({digits_str}).\")"
   ]
  },
  {
   "cell_type": "code",
   "execution_count": 8,
   "id": "585dbd9a",
   "metadata": {},
   "outputs": [
    {
     "name": "stdout",
     "output_type": "stream",
     "text": [
      "wolleh dlrow\n"
     ]
    }
   ],
   "source": [
    "sentence = input()\n",
    "reversed_sentence = ' '.join(word[::-1] for word in sentence.split())\n",
    "print(reversed_sentence)"
   ]
  },
  {
   "cell_type": "code",
   "execution_count": 9,
   "id": "ee6b6d3b",
   "metadata": {},
   "outputs": [
    {
     "name": "stdout",
     "output_type": "stream",
     "text": [
      "1 3 5 7 9 \n"
     ]
    }
   ],
   "source": [
    "n = int(input())\n",
    "for i in range(1, n + 1, 2):\n",
    "    print(i, end=' ')\n",
    "print()"
   ]
  },
  {
   "cell_type": "code",
   "execution_count": 10,
   "id": "52708ff1",
   "metadata": {},
   "outputs": [
    {
     "name": "stdout",
     "output_type": "stream",
     "text": [
      "28 is a perfect number.\n"
     ]
    }
   ],
   "source": [
    "num = int(input())\n",
    "divisors_sum = sum(i for i in range(1, num) if num % i == 0)\n",
    "\n",
    "if divisors_sum == num:\n",
    "    print(f\"{num} is a perfect number.\")\n",
    "else:\n",
    "    print(f\"{num} is not a perfect number.\")"
   ]
  },
  {
   "cell_type": "code",
   "execution_count": 11,
   "id": "9db2a86d",
   "metadata": {},
   "outputs": [
    {
     "name": "stdout",
     "output_type": "stream",
     "text": [
      "Prime Factors: 2, 3\n"
     ]
    }
   ],
   "source": [
    "n = int(input())\n",
    "i = 2\n",
    "prime_factors = set()\n",
    "\n",
    "while i * i <= n:\n",
    "    if n % i == 0:\n",
    "        prime_factors.add(i)\n",
    "        n //= i\n",
    "    else:\n",
    "        i += 1\n",
    "\n",
    "if n > 1:\n",
    "    prime_factors.add(n)\n",
    "\n",
    "print(\"Prime Factors:\", \", \".join(map(str, sorted(prime_factors))))\n"
   ]
  },
  {
   "cell_type": "code",
   "execution_count": 12,
   "id": "4f0a3580",
   "metadata": {},
   "outputs": [
    {
     "name": "stdout",
     "output_type": "stream",
     "text": [
      "The word 'level' is a palindrome.\n"
     ]
    }
   ],
   "source": [
    "word = input(\"Enter a word: \")\n",
    "if word == word[::-1]:\n",
    "    print(f\"The word '{word}' is a palindrome.\")\n",
    "else:\n",
    "    print(f\"The word '{word}' is not a palindrome.\")"
   ]
  }
 ],
 "metadata": {
  "kernelspec": {
   "display_name": "Python 3",
   "language": "python",
   "name": "python3"
  },
  "language_info": {
   "codemirror_mode": {
    "name": "ipython",
    "version": 3
   },
   "file_extension": ".py",
   "mimetype": "text/x-python",
   "name": "python",
   "nbconvert_exporter": "python",
   "pygments_lexer": "ipython3",
   "version": "3.12.5"
  }
 },
 "nbformat": 4,
 "nbformat_minor": 5
}
