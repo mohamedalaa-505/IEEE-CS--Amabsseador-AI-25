{
 "cells": [
  {
   "cell_type": "code",
   "execution_count": 6,
   "id": "6bf3753e",
   "metadata": {},
   "outputs": [
    {
     "name": "stdout",
     "output_type": "stream",
     "text": [
      "ahmed\n",
      "mohamed\n"
     ]
    }
   ],
   "source": [
    "if __name__ == '__main__':\n",
    "    recordes = []\n",
    "    for _ in range(int(input())):\n",
    "        name = input()\n",
    "        score = float(input())\n",
    "        recordes.append([name, score])\n",
    "\n",
    "    scores = sorted(set(score for name, score in recordes))\n",
    "    second_lowest = scores[1]\n",
    "\n",
    "    result = [name  for name, score in recordes if score == second_lowest]\n",
    "\n",
    "    for name in sorted(result):\n",
    "        print(name)"
   ]
  },
  {
   "cell_type": "code",
   "execution_count": null,
   "id": "2760ab41",
   "metadata": {},
   "outputs": [
    {
     "name": "stdout",
     "output_type": "stream",
     "text": [
      "5\n"
     ]
    }
   ],
   "source": [
    "if __name__ == '__main__':\n",
    "    n = int(input())\n",
    "    arr = map(int, input().split())\n",
    "    sorted_arr = sorted(set(arr))\n",
    "    print(sorted_arr[-2])"
   ]
  },
  {
   "cell_type": "code",
   "execution_count": 9,
   "id": "d42d4436",
   "metadata": {},
   "outputs": [],
   "source": [
    "if __name__ == '__main__':\n",
    "    n = int(input())\n",
    "    my_list = []\n",
    "\n",
    "    for _ in range(n):\n",
    "        command = input().split()\n",
    "\n",
    "        if command[0] == 'insert':\n",
    "            my_list.insert(int(command[1]), int(command[2]))\n",
    "        elif command[0] == 'print':\n",
    "            print(my_list)\n",
    "        elif command[0] == 'remove':\n",
    "            my_list.remove(int(command[1]))\n",
    "        elif command[0] == 'append':\n",
    "            my_list.append(int(command[1]))\n",
    "        elif command[0] == 'sort':\n",
    "            my_list.sort()\n",
    "        elif command[0] == 'pop':\n",
    "            my_list.pop()\n",
    "        elif command[0] == 'reverse':\n",
    "            my_list.reverse()"
   ]
  },
  {
   "cell_type": "code",
   "execution_count": 10,
   "id": "ab9f2487",
   "metadata": {},
   "outputs": [
    {
     "name": "stdout",
     "output_type": "stream",
     "text": [
      "Title: book1\n",
      "Author: Mohamed\n",
      "Year: 1949\n"
     ]
    }
   ],
   "source": [
    "library_catalogue = {\n",
    "    \"book1\": {\n",
    "        \"author\": \"Mohamed\",\n",
    "        \"year\": 1949\n",
    "    },\n",
    "    \"book2\": {\n",
    "        \"author\": \"Alaa\",\n",
    "        \"year\": 1960\n",
    "    },\n",
    "    \"book3\": {\n",
    "        \"author\": \"Hussien\",\n",
    "        \"year\": 1925\n",
    "    },\n",
    "    \"book4\": {\n",
    "        \"author\": \"Omar\",\n",
    "        \"year\": 1813\n",
    "    }\n",
    "}\n",
    "\n",
    "title = \"book1\"\n",
    "print(f\"Title: {title}\")\n",
    "print(f\"Author: {library_catalogue[title]['author']}\")\n",
    "print(f\"Year: {library_catalogue[title]['year']}\")"
   ]
  },
  {
   "cell_type": "code",
   "execution_count": 12,
   "id": "fb02defd",
   "metadata": {},
   "outputs": [
    {
     "name": "stdout",
     "output_type": "stream",
     "text": [
      "plainview : 8\n",
      "i : 14\n",
      "m : 7\n",
      "a : 5\n",
      "sinner : 5\n",
      "eli : 8\n",
      "say : 1\n",
      "it : 1\n",
      "louder : 2\n",
      "i’m : 2\n",
      "daniel : 1\n",
      "sorry : 2\n",
      "lord : 2\n",
      "want : 2\n",
      "the : 2\n",
      "blood : 2\n",
      "you : 1\n",
      "have : 2\n",
      "abandoned : 3\n",
      "your : 1\n",
      "child : 3\n",
      "i’ve : 1\n",
      "my : 2\n",
      "will : 2\n",
      "never : 2\n",
      "backslide : 2\n",
      "was : 2\n",
      "lost : 2\n",
      "but : 2\n",
      "now : 2\n",
      "found : 2\n"
     ]
    }
   ],
   "source": [
    "filename = \"C:/Users/user/Downloads/simple_text.txt\"\n",
    "\n",
    "with open(filename, \"r\", encoding=\"utf-8\") as file:\n",
    "    text = file.read()\n",
    "\n",
    "text = text.lower()\n",
    "for char in \",.:;!?'-\\n\":\n",
    "    text = text.replace(char, \" \")\n",
    "\n",
    "words = text.split()\n",
    "\n",
    "word_count = {}\n",
    "\n",
    "for word in words:\n",
    "    if word in word_count:\n",
    "        word_count[word] += 1\n",
    "    else:\n",
    "        word_count[word] = 1\n",
    "\n",
    "for word in word_count:\n",
    "    print(word, \":\", word_count[word])"
   ]
  },
  {
   "cell_type": "code",
   "execution_count": null,
   "id": "e48a2bda",
   "metadata": {},
   "outputs": [
    {
     "name": "stdout",
     "output_type": "stream",
     "text": [
      "xvD9LNVz\n"
     ]
    }
   ],
   "source": [
    "import random\n",
    "import string\n",
    "\n",
    "characters = string.ascii_letters + string.digits \n",
    "\n",
    "password = ''.join(random.choice(characters) for _ in range(8))\n",
    "\n",
    "print(password)"
   ]
  },
  {
   "cell_type": "code",
   "execution_count": 22,
   "id": "38360798",
   "metadata": {},
   "outputs": [
    {
     "name": "stdout",
     "output_type": "stream",
     "text": [
      "{3, 4}\n"
     ]
    }
   ],
   "source": [
    "def common_elements(set1, set2):\n",
    "    return set1.intersection(set2)\n",
    "\n",
    "a = {1, 2, 3, 4}\n",
    "b = {3, 4, 5, 6}\n",
    "\n",
    "result = common_elements(a, b)\n",
    "print(result)"
   ]
  },
  {
   "cell_type": "code",
   "execution_count": 23,
   "id": "95bc9c9f",
   "metadata": {},
   "outputs": [
    {
     "name": "stdout",
     "output_type": "stream",
     "text": [
      "Guess the number between 1 and 100\n",
      "You have 5 tries!\n",
      "Too low!\n",
      "Tries left: 4\n",
      "\n",
      "Too low!\n",
      "Tries left: 3\n",
      "\n",
      "Too high!\n",
      "Tries left: 2\n",
      "\n",
      "Too high!\n",
      "Tries left: 1\n",
      "\n",
      "Too low!\n",
      "Tries left: 0\n",
      "\n",
      "Game over! The number was 61.\n"
     ]
    }
   ],
   "source": [
    "import random\n",
    "\n",
    "secret_number = random.randint(1, 100)\n",
    "tries = 5\n",
    "\n",
    "print(\"Guess the number between 1 and 100\")\n",
    "print(\"You have 5 tries!\")\n",
    "\n",
    "while tries > 0:\n",
    "    guess = int(input(\"Enter your guess: \"))\n",
    "    \n",
    "    if guess == secret_number:\n",
    "        print(\"Correct! You win!\")\n",
    "        break\n",
    "    elif guess < secret_number:\n",
    "        print(\"Too low!\")\n",
    "    else:\n",
    "        print(\"Too high!\")\n",
    "    \n",
    "    tries -= 1\n",
    "    print(f\"Tries left: {tries}\\n\")\n",
    "\n",
    "if tries == 0:\n",
    "    print(f\"Game over! The number was {secret_number}.\")"
   ]
  }
 ],
 "metadata": {
  "kernelspec": {
   "display_name": "Python 3",
   "language": "python",
   "name": "python3"
  },
  "language_info": {
   "codemirror_mode": {
    "name": "ipython",
    "version": 3
   },
   "file_extension": ".py",
   "mimetype": "text/x-python",
   "name": "python",
   "nbconvert_exporter": "python",
   "pygments_lexer": "ipython3",
   "version": "3.12.5"
  }
 },
 "nbformat": 4,
 "nbformat_minor": 5
}
