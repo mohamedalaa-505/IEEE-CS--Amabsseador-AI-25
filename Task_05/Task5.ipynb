{
 "cells": [
  {
   "cell_type": "code",
   "execution_count": 1,
   "id": "51aa44d9",
   "metadata": {},
   "outputs": [
    {
     "name": "stdout",
     "output_type": "stream",
     "text": [
      "{1: 0.3, 2: 0.2, 3: 0.2, 4: 0.2, 5: 0.1}\n"
     ]
    }
   ],
   "source": [
    "from collections import Counter\n",
    "\n",
    "def probability_distribution(data):\n",
    "    total = len(data)\n",
    "    counts = Counter(data)  \n",
    "    return {value: count / total for value, count in counts.items()}\n",
    "\n",
    "data = [1, 2, 3, 4, 5, 1, 2, 3, 4, 1]\n",
    "print(probability_distribution(data))"
   ]
  },
  {
   "cell_type": "code",
   "execution_count": 1,
   "id": "f7c522d5",
   "metadata": {},
   "outputs": [
    {
     "name": "stdout",
     "output_type": "stream",
     "text": [
      "0.6666666666666666\n"
     ]
    }
   ],
   "source": [
    "def conditional_probability(event_a, event_b):\n",
    "    if len(event_a) != len(event_b):\n",
    "        raise ValueError(\"Both event lists must be the same length\")\n",
    "    \n",
    "    a_true_indices = [i for i, val in enumerate(event_a) if val == 1]\n",
    "    if not a_true_indices:\n",
    "        return 0  \n",
    "    \n",
    "    both_true_count = sum(1 for i in a_true_indices if event_b[i] == 1)\n",
    "    return both_true_count / len(a_true_indices)\n",
    "\n",
    "event_a = [1, 0, 1, 0, 1]\n",
    "event_b = [1, 1, 0, 0, 1]\n",
    "print(conditional_probability(event_a, event_b))"
   ]
  }
 ],
 "metadata": {
  "kernelspec": {
   "display_name": "Python 3",
   "language": "python",
   "name": "python3"
  },
  "language_info": {
   "codemirror_mode": {
    "name": "ipython",
    "version": 3
   },
   "file_extension": ".py",
   "mimetype": "text/x-python",
   "name": "python",
   "nbconvert_exporter": "python",
   "pygments_lexer": "ipython3",
   "version": "3.12.5"
  }
 },
 "nbformat": 4,
 "nbformat_minor": 5
}
